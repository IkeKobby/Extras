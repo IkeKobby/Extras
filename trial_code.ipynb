{
 "cells": [
  {
   "cell_type": "code",
   "execution_count": 1,
   "id": "proud-imperial",
   "metadata": {},
   "outputs": [
    {
     "name": "stdout",
     "output_type": "stream",
     "text": [
      "anni_isaackobby.py  checks.py  __pycache__  trial_code.ipynb\n"
     ]
    }
   ],
   "source": [
    "!ls"
   ]
  },
  {
   "cell_type": "code",
   "execution_count": 2,
   "id": "controversial-berry",
   "metadata": {},
   "outputs": [],
   "source": [
    "import checks"
   ]
  },
  {
   "cell_type": "code",
   "execution_count": 4,
   "id": "liable-movie",
   "metadata": {},
   "outputs": [
    {
     "name": "stdout",
     "output_type": "stream",
     "text": [
      "Success: Test passed\n"
     ]
    }
   ],
   "source": [
    "checks.check_problem_1a()"
   ]
  },
  {
   "cell_type": "code",
   "execution_count": 8,
   "id": "dirty-prison",
   "metadata": {},
   "outputs": [],
   "source": [
    "checks.check_problem_1b()"
   ]
  },
  {
   "cell_type": "code",
   "execution_count": 9,
   "id": "brilliant-numbers",
   "metadata": {},
   "outputs": [
    {
     "name": "stdout",
     "output_type": "stream",
     "text": [
      "[[0.31528205 0.75351993]\n",
      " [2.56883174 0.        ]\n",
      " [4.82238143 0.75351993]\n",
      " [7.07593111 0.        ]\n",
      " [9.3294808  0.75351993]]\n"
     ]
    },
    {
     "data": {
      "image/png": "[encoded data removed]",
      "text/plain": [
       "<Figure size 432x288 with 1 Axes>"
      ]
     },
     "metadata": {
      "needs_background": "light"
     },
     "output_type": "display_data"
    }
   ],
   "source": [
    "checks.check_problem_1c()"
   ]
  },
  {
   "cell_type": "code",
   "execution_count": 6,
   "id": "close-lover",
   "metadata": {},
   "outputs": [],
   "source": [
    "checks.check_problem_1d()"
   ]
  },
  {
   "cell_type": "code",
   "execution_count": 7,
   "id": "indonesian-table",
   "metadata": {},
   "outputs": [
    {
     "name": "stdout",
     "output_type": "stream",
     "text": [
      "S contains entries that are different from 0 and 1\n"
     ]
    }
   ],
   "source": [
    "checks.check_problem_2a()"
   ]
  },
  {
   "cell_type": "code",
   "execution_count": 8,
   "id": "infrared-accommodation",
   "metadata": {},
   "outputs": [
    {
     "name": "stdout",
     "output_type": "stream",
     "text": [
      "Fail: v_par is not a linear combination of the columns of B\n"
     ]
    }
   ],
   "source": [
    "checks.check_problem_2b()"
   ]
  },
  {
   "cell_type": "code",
   "execution_count": 9,
   "id": "guilty-frequency",
   "metadata": {},
   "outputs": [
    {
     "name": "stdout",
     "output_type": "stream",
     "text": [
      "Success\n"
     ]
    }
   ],
   "source": [
    "checks.check_problem_2c()"
   ]
  },
  {
   "cell_type": "code",
   "execution_count": 10,
   "id": "posted-curve",
   "metadata": {},
   "outputs": [],
   "source": [
    "checks.check_problem_3a()"
   ]
  },
  {
   "cell_type": "code",
   "execution_count": 11,
   "id": "academic-wyoming",
   "metadata": {},
   "outputs": [],
   "source": [
    "checks.check_problem_3b()"
   ]
  },
  {
   "cell_type": "code",
   "execution_count": 12,
   "id": "instructional-cinema",
   "metadata": {},
   "outputs": [],
   "source": [
    "checks.check_problem_3c()"
   ]
  },
  {
   "cell_type": "code",
   "execution_count": 13,
   "id": "recovered-armor",
   "metadata": {},
   "outputs": [],
   "source": [
    "checks.check_problem_3d()"
   ]
  },
  {
   "cell_type": "code",
   "execution_count": null,
   "id": "opposed-short",
   "metadata": {},
   "outputs": [],
   "source": []
  },
  {
   "cell_type": "code",
   "execution_count": null,
   "id": "brave-nation",
   "metadata": {},
   "outputs": [],
   "source": []
  },
  {
   "cell_type": "code",
   "execution_count": null,
   "id": "durable-strip",
   "metadata": {},
   "outputs": [],
   "source": []
  },
  {
   "cell_type": "code",
   "execution_count": null,
   "id": "worth-blame",
   "metadata": {},
   "outputs": [],
   "source": []
  },
  {
   "cell_type": "code",
   "execution_count": null,
   "id": "painted-begin",
   "metadata": {},
   "outputs": [],
   "source": []
  },
  {
   "cell_type": "code",
   "execution_count": null,
   "id": "looking-pepper",
   "metadata": {},
   "outputs": [],
   "source": []
  },
  {
   "cell_type": "code",
   "execution_count": null,
   "id": "pleased-pointer",
   "metadata": {},
   "outputs": [],
   "source": []
  },
  {
   "cell_type": "code",
   "execution_count": null,
   "id": "pointed-binary",
   "metadata": {},
   "outputs": [],
   "source": []
  },
  {
   "cell_type": "code",
   "execution_count": null,
   "id": "enclosed-easter",
   "metadata": {},
   "outputs": [],
   "source": []
  },
  {
   "cell_type": "code",
   "execution_count": null,
   "id": "threaded-raising",
   "metadata": {},
   "outputs": [],
   "source": []
  },
  {
   "cell_type": "code",
   "execution_count": null,
   "id": "personal-desktop",
   "metadata": {},
   "outputs": [],
   "source": []
  },
  {
   "cell_type": "code",
   "execution_count": 14,
   "id": "painted-fantasy",
   "metadata": {},
   "outputs": [],
   "source": [
    "import numpy as np"
   ]
  },
  {
   "cell_type": "code",
   "execution_count": 19,
   "id": "painful-confidentiality",
   "metadata": {},
   "outputs": [
    {
     "data": {
      "text/plain": [
       "array([1, 3, 4, 5])"
      ]
     },
     "execution_count": 19,
     "metadata": {},
     "output_type": "execute_result"
    }
   ],
   "source": [
    "x = np.array([3, 4, 4, 5, 3, 1, 5, 3]).T\n",
    "N= len(x)\n",
    "#S, u = repeated_entries(x)\n",
    "u = np.array([i for i in set(x)])\n",
    "L = len(u)\n",
    "u"
   ]
  },
  {
   "cell_type": "code",
   "execution_count": 20,
   "id": "aggregate-casino",
   "metadata": {},
   "outputs": [],
   "source": [
    "S = np.eye(N, L)"
   ]
  },
  {
   "cell_type": "code",
   "execution_count": 30,
   "id": "qualified-andrews",
   "metadata": {},
   "outputs": [
    {
     "data": {
      "text/plain": [
       "2"
      ]
     },
     "execution_count": 30,
     "metadata": {},
     "output_type": "execute_result"
    }
   ],
   "source": [
    "u_ = u.reshape(-1, 1)\n",
    "u_.ndim"
   ]
  },
  {
   "cell_type": "code",
   "execution_count": null,
   "id": "completed-omaha",
   "metadata": {},
   "outputs": [],
   "source": [
    "S.T @ S"
   ]
  },
  {
   "cell_type": "code",
   "execution_count": 36,
   "id": "hairy-warner",
   "metadata": {},
   "outputs": [
    {
     "data": {
      "text/plain": [
       "array([[0.01960784, 0.05882353, 0.07843137, 0.09803922]])"
      ]
     },
     "execution_count": 36,
     "metadata": {},
     "output_type": "execute_result"
    }
   ],
   "source": [
    "u_inv = np.linalg.inv(u_.T @ u_) @ u_.T\n",
    "u_inv"
   ]
  },
  {
   "cell_type": "code",
   "execution_count": 50,
   "id": "olympic-incidence",
   "metadata": {},
   "outputs": [
    {
     "data": {
      "text/plain": [
       "array([[0.05882353, 0.17647059, 0.23529412, 0.29411765],\n",
       "       [0.07843137, 0.23529412, 0.31372549, 0.39215686],\n",
       "       [0.07843137, 0.23529412, 0.31372549, 0.39215686],\n",
       "       [0.09803922, 0.29411765, 0.39215686, 0.49019608],\n",
       "       [0.05882353, 0.17647059, 0.23529412, 0.29411765],\n",
       "       [0.01960784, 0.05882353, 0.07843137, 0.09803922],\n",
       "       [0.09803922, 0.29411765, 0.39215686, 0.49019608],\n",
       "       [0.05882353, 0.17647059, 0.23529412, 0.29411765]])"
      ]
     },
     "execution_count": 50,
     "metadata": {},
     "output_type": "execute_result"
    }
   ],
   "source": [
    "S_ = x.reshape(-1, 1) @ u_inv\n",
    "S_"
   ]
  },
  {
   "cell_type": "code",
   "execution_count": 51,
   "id": "seventh-garbage",
   "metadata": {},
   "outputs": [
    {
     "data": {
      "text/plain": [
       "(8, 4)"
      ]
     },
     "execution_count": 51,
     "metadata": {},
     "output_type": "execute_result"
    }
   ],
   "source": [
    "S_.shape"
   ]
  },
  {
   "cell_type": "code",
   "execution_count": 48,
   "id": "portuguese-alpha",
   "metadata": {},
   "outputs": [
    {
     "data": {
      "text/plain": [
       "(8, 1)"
      ]
     },
     "execution_count": 48,
     "metadata": {},
     "output_type": "execute_result"
    }
   ],
   "source": [
    "x_ver = S_ @ u_\n",
    "x_ver"
   ]
  },
  {
   "cell_type": "code",
   "execution_count": null,
   "id": "solar-peace",
   "metadata": {},
   "outputs": [],
   "source": []
  }
 ],
 "metadata": {
  "kernelspec": {
   "display_name": "Python 3",
   "language": "python",
   "name": "python3"
  },
  "language_info": {
   "codemirror_mode": {
    "name": "ipython",
    "version": 3
   },
   "file_extension": ".py",
   "mimetype": "text/x-python",
   "name": "python",
   "nbconvert_exporter": "python",
   "pygments_lexer": "ipython3",
   "version": "3.8.5"
  }
 },
 "nbformat": 4,
 "nbformat_minor": 5
}
